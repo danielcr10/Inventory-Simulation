{
 "cells": [
  {
   "cell_type": "code",
   "execution_count": 9,
   "metadata": {},
   "outputs": [
    {
     "name": "stdout",
     "output_type": "stream",
     "text": [
      "Lucro Total: 348.89585085634064\n",
      "Lucro por unidade de tempo: 58.149308476056774\n",
      "Horários de chegada dos clientes: [0.04303447293993111, 0.10133451598126808, 0.21605943522990395, 0.27197816616175174, 0.4195164597595948, 0.543616857058997, 0.6868646010127601, 0.8036584760647318, 0.915762931068352, 1.1366780616362955, 1.1444626843077372, 1.414732310487209, 1.7219892973638085, 1.7325972184269003, 2.0035147558620077, 2.1100698398999254, 2.288503839083604, 2.3739782023408034, 2.6619008000840076, 2.7139561610456022, 2.993549724448402, 3.2989919607340954, 3.3705164742017923, 3.445041558370227, 4.082382219838851, 4.2228853201262595, 4.367811846221071, 4.656985123567682, 4.711156740067539, 4.852997519940758, 4.88485047787126, 5.0539054442103355, 5.212856398197322, 5.2254015864932635, 5.288233507111492, 5.3814758920023245, 5.478812250257942, 5.607909840112366, 5.654405937392905, 5.761844608061515, 5.7852568311054196, 5.8359337029583775, 5.883945584991128, 5.8973833276660965, 5.978091017048243]\n",
      "Horário de chegada dos pedidos: []\n",
      "\n",
      "\n",
      "\n",
      "Lucro médio por unidade de tempo: 25.78474788130834\n",
      "189.00082386264\n",
      "Número de cenários necessários: 145209\n",
      "A média está no intervalo [25.714037501113843,25.85545826150284] com a probabilidade de 0.95.\n",
      "\n",
      "\n",
      "\n"
     ]
    },
    {
     "data": {
      "image/png": "[encoded data removed]",
      "text/plain": [
       "<Figure size 432x288 with 1 Axes>"
      ]
     },
     "metadata": {
      "needs_background": "light"
     },
     "output_type": "display_data"
    },
    {
     "data": {
      "application/vnd.jupyter.widget-view+json": {
       "model_id": "931cf3834c744846a651b8bd7529423f",
       "version_major": 2,
       "version_minor": 0
      },
      "text/plain": [
       "FloatProgress(value=0.0, max=121.0)"
      ]
     },
     "metadata": {},
     "output_type": "display_data"
    },
    {
     "name": "stderr",
     "output_type": "stream",
     "text": [
      "/home/daniel/.local/lib/python3.6/site-packages/ipykernel_launcher.py:172: TqdmDeprecationWarning: This function will be removed in tqdm==5.0.0\n",
      "Please use `tqdm.notebook.tqdm` instead of `tqdm.tqdm_notebook`\n"
     ]
    },
    {
     "data": {
      "application/vnd.jupyter.widget-view+json": {
       "model_id": "ad158dbea6374ca38aee2f2be00bfba2",
       "version_major": 2,
       "version_minor": 0
      },
      "text/plain": [
       "HBox(children=(HTML(value=''), FloatProgress(value=0.0, max=11.0), HTML(value='')))"
      ]
     },
     "metadata": {},
     "output_type": "display_data"
    },
    {
     "name": "stderr",
     "output_type": "stream",
     "text": [
      "/home/daniel/.local/lib/python3.6/site-packages/ipykernel_launcher.py:173: TqdmDeprecationWarning: This function will be removed in tqdm==5.0.0\n",
      "Please use `tqdm.notebook.tqdm` instead of `tqdm.tqdm_notebook`\n"
     ]
    },
    {
     "data": {
      "application/vnd.jupyter.widget-view+json": {
       "model_id": "da35fa6a2a4d4feb9cb9a3f4648e47c4",
       "version_major": 2,
       "version_minor": 0
      },
      "text/plain": [
       "HBox(children=(HTML(value=''), FloatProgress(value=0.0, max=11.0), HTML(value='')))"
      ]
     },
     "metadata": {},
     "output_type": "display_data"
    },
    {
     "name": "stdout",
     "output_type": "stream",
     "text": [
      "\n"
     ]
    },
    {
     "data": {
      "application/vnd.jupyter.widget-view+json": {
       "model_id": "d71c562b875045708855054cdb2361d8",
       "version_major": 2,
       "version_minor": 0
      },
      "text/plain": [
       "HBox(children=(HTML(value=''), FloatProgress(value=0.0, max=11.0), HTML(value='')))"
      ]
     },
     "metadata": {},
     "output_type": "display_data"
    },
    {
     "name": "stdout",
     "output_type": "stream",
     "text": [
      "\n"
     ]
    },
    {
     "data": {
      "application/vnd.jupyter.widget-view+json": {
       "model_id": "f19a100b6bea4b24a5355080f3c47b24",
       "version_major": 2,
       "version_minor": 0
      },
      "text/plain": [
       "HBox(children=(HTML(value=''), FloatProgress(value=0.0, max=11.0), HTML(value='')))"
      ]
     },
     "metadata": {},
     "output_type": "display_data"
    },
    {
     "name": "stdout",
     "output_type": "stream",
     "text": [
      "\n"
     ]
    },
    {
     "data": {
      "application/vnd.jupyter.widget-view+json": {
       "model_id": "a4f55ec4cad744bbb8cccf749759b04d",
       "version_major": 2,
       "version_minor": 0
      },
      "text/plain": [
       "HBox(children=(HTML(value=''), FloatProgress(value=0.0, max=11.0), HTML(value='')))"
      ]
     },
     "metadata": {},
     "output_type": "display_data"
    },
    {
     "name": "stdout",
     "output_type": "stream",
     "text": [
      "\n"
     ]
    },
    {
     "data": {
      "application/vnd.jupyter.widget-view+json": {
       "model_id": "9619e2a537684dfe9cba005e84e0643c",
       "version_major": 2,
       "version_minor": 0
      },
      "text/plain": [
       "HBox(children=(HTML(value=''), FloatProgress(value=0.0, max=11.0), HTML(value='')))"
      ]
     },
     "metadata": {},
     "output_type": "display_data"
    },
    {
     "name": "stdout",
     "output_type": "stream",
     "text": [
      "\n"
     ]
    },
    {
     "data": {
      "application/vnd.jupyter.widget-view+json": {
       "model_id": "38faa4cfd49147c4bdcdf3c0d1568564",
       "version_major": 2,
       "version_minor": 0
      },
      "text/plain": [
       "HBox(children=(HTML(value=''), FloatProgress(value=0.0, max=11.0), HTML(value='')))"
      ]
     },
     "metadata": {},
     "output_type": "display_data"
    },
    {
     "name": "stdout",
     "output_type": "stream",
     "text": [
      "\n"
     ]
    },
    {
     "data": {
      "application/vnd.jupyter.widget-view+json": {
       "model_id": "d59a51a457e7432882b42016af5588f1",
       "version_major": 2,
       "version_minor": 0
      },
      "text/plain": [
       "HBox(children=(HTML(value=''), FloatProgress(value=0.0, max=11.0), HTML(value='')))"
      ]
     },
     "metadata": {},
     "output_type": "display_data"
    },
    {
     "name": "stdout",
     "output_type": "stream",
     "text": [
      "\n"
     ]
    },
    {
     "data": {
      "application/vnd.jupyter.widget-view+json": {
       "model_id": "4b0e5ab9a3094deeb226f7d2d156fcc1",
       "version_major": 2,
       "version_minor": 0
      },
      "text/plain": [
       "HBox(children=(HTML(value=''), FloatProgress(value=0.0, max=11.0), HTML(value='')))"
      ]
     },
     "metadata": {},
     "output_type": "display_data"
    },
    {
     "name": "stdout",
     "output_type": "stream",
     "text": [
      "\n"
     ]
    },
    {
     "data": {
      "application/vnd.jupyter.widget-view+json": {
       "model_id": "8c0215a05ea84b55b0a80110c09c8da4",
       "version_major": 2,
       "version_minor": 0
      },
      "text/plain": [
       "HBox(children=(HTML(value=''), FloatProgress(value=0.0, max=11.0), HTML(value='')))"
      ]
     },
     "metadata": {},
     "output_type": "display_data"
    },
    {
     "name": "stdout",
     "output_type": "stream",
     "text": [
      "\n"
     ]
    },
    {
     "data": {
      "application/vnd.jupyter.widget-view+json": {
       "model_id": "3e99fc89e29448a897d281e9fd54091b",
       "version_major": 2,
       "version_minor": 0
      },
      "text/plain": [
       "HBox(children=(HTML(value=''), FloatProgress(value=0.0, max=11.0), HTML(value='')))"
      ]
     },
     "metadata": {},
     "output_type": "display_data"
    },
    {
     "name": "stdout",
     "output_type": "stream",
     "text": [
      "\n"
     ]
    },
    {
     "data": {
      "application/vnd.jupyter.widget-view+json": {
       "model_id": "4f2dcd0fde87437ba906869d617785dc",
       "version_major": 2,
       "version_minor": 0
      },
      "text/plain": [
       "HBox(children=(HTML(value=''), FloatProgress(value=0.0, max=11.0), HTML(value='')))"
      ]
     },
     "metadata": {},
     "output_type": "display_data"
    },
    {
     "name": "stdout",
     "output_type": "stream",
     "text": [
      "\n",
      "\n",
      "Lucro máximo por unidade de tempo: 25.73711466085025\n",
      "Melhor política de pedidos (minEstoque, maxEstoque): (5,16)\n"
     ]
    }
   ],
   "source": [
    "import numpy as np\n",
    "import matplotlib.pyplot as plt\n",
    "import math\n",
    "import scipy.stats\n",
    "from ipywidgets import FloatProgress\n",
    "from IPython.display import display\n",
    "\n",
    "# %%capture\n",
    "from tqdm import tqdm_notebook as tqdm\n",
    "# tqdm().pandas()\n",
    "\n",
    "%matplotlib inline\n",
    "\n",
    "T = 6.0\n",
    "maxEstoque = 15 # máximo disponível\n",
    "minEstoque = 5 # mínimo disponível\n",
    "x0 = 15 # quantidade inicial no inventário\n",
    "precoPorUnidade = 50 # preço por unidade\n",
    "und = 2 # unidade de tempo antes do pedido chegar\n",
    "custo = 2 # custo de manutenção do inventário\n",
    "maxRate = 10 # número máximo de clientes por unidade de tempo\n",
    "recebeAteFechar = True # pedidos podem chegar depois de fechar\n",
    "custoAteFechar = True # o custo de manutenção é cobrado até o fechamento da loja\n",
    "custoPorUnidade = 10\n",
    "\n",
    "def cost(x): \n",
    "    return x * custoPorUnidade\n",
    "\n",
    "def rate(t):\n",
    "    if (t < 1.0):\n",
    "        return 10.0\n",
    "    elif (t < 2.0):\n",
    "        return 5.0\n",
    "    elif (t < 3.0):\n",
    "        return 10.0\n",
    "    elif (t < 4.0):\n",
    "        return 2.0\n",
    "    elif (t < 5.0):\n",
    "        return 5.0\n",
    "    else:\n",
    "        return 10.0\n",
    "\n",
    "def proxChegada(t,rate,maxRate):\n",
    "    while(1):\n",
    "        Z = exponencial(1,maxRate)[0]\n",
    "        t = t + Z\n",
    "        U = np.random.sample(1)\n",
    "        if U < rate(t) / maxRate:\n",
    "            return t\n",
    "\n",
    "def exponencial(nsamples,rate):\n",
    "    x = np.zeros(nsamples)\n",
    "    u = np.random.sample(nsamples)\n",
    "    for i in range(nsamples):\n",
    "        x[i] = - math.log(1.0 - u[i]) / rate\n",
    "    return x\n",
    "\n",
    "\n",
    "def inventario(G,T,maxEstoque,minEstoque,cost,x0,precoPorUnidade,und,custo,rate,maxRate,recebeAteFechar,custoAteFechar):\n",
    "    \n",
    "    qtdCusto = 0.0 # valor de custos de pedidos\n",
    "    qtdReceita = 0.0 # valor da receita obtida\n",
    "    valCusto = 0.0 # valor total do custo de manutenção\n",
    "    qtdInventario = x0 # quantidade no inventário\n",
    "    qtdPedido = 0 # quantidade no pedido\n",
    "    t = 0.0 \n",
    "    t0 = proxChegada(t,rate,maxRate) # hora de chegada do próximo cliente\n",
    "    t1 = 1.0e+30 # tempo de entrega do pedido\n",
    "    T0 = []\n",
    "    T1 = []\n",
    "    \n",
    "    while(1):\n",
    "        \n",
    "        #cliente chegou depois da entrega\n",
    "        if t0 < t1 and t0 <= T:\n",
    "            valCusto = valCusto + (t0 - t) * qtdInventario * custo\n",
    "            t = t0\n",
    "            T0.append(t0)\n",
    "            demanda = G(1,rate(t))[0] # demanda do cliente\n",
    "            valorPedidoPreenchido = min(demanda,qtdInventario) # valor do pedido que pode ser preenchido\n",
    "            qtdReceita = qtdReceita + valorPedidoPreenchido * precoPorUnidade\n",
    "            qtdInventario = qtdInventario - valorPedidoPreenchido\n",
    "            # política de pedidos\n",
    "            if qtdInventario < minEstoque and qtdPedido == 0:\n",
    "                qtdPedido = maxEstoque - qtdInventario\n",
    "                t1 = t + und\n",
    "            t0 = proxChegada(t,rate,maxRate)\n",
    "            \n",
    "        # pedido chega antes do próximo cliente\n",
    "        elif (t1 <= t0 or t0 > T) and t1 <= T:\n",
    "            valCusto = valCusto + (t1 - t) * qtdInventario * custo\n",
    "            t = t1\n",
    "            T1.append(t1)\n",
    "            qtdCusto = qtdCusto + cost(qtdPedido)\n",
    "            qtdInventario = qtdInventario + qtdPedido\n",
    "            qtdPedido = 0\n",
    "            t1 = 1.0e+30\n",
    "            \n",
    "        else:\n",
    "            # loja é fechada e ainda existe um pedido pendente\n",
    "            if qtdPedido > 0 and recebeAteFechar:\n",
    "                valCusto = valCusto + (t1 - t) * qtdInventario * custo\n",
    "                t = t1\n",
    "                T1.append(t1)\n",
    "                qtdCusto = qtdCusto + cost(qtdPedido)\n",
    "                qtdInventario = qtdInventario + qtdPedido\n",
    "                qtdPedido = 0\n",
    "                \n",
    "            elif custoAteFechar:\n",
    "                valCusto = valCusto + (T - t) * qtdInventario * custo\n",
    "                \n",
    "            lucroTotal = qtdReceita - qtdCusto - valCusto\n",
    "            lucroPorUnidade = lucroTotal / T # Lucro por unidade de tempo\n",
    "            return lucroTotal, lucroPorUnidade, T0, T1\n",
    "\n",
    "\n",
    "lucroTotal, lucroPorUnidade, T0, T1 = inventario(exponencial,T,maxEstoque,minEstoque,cost,x0,precoPorUnidade,und,custo,rate,maxRate,recebeAteFechar,custoAteFechar)\n",
    "print(\"Lucro Total: \" + str(lucroTotal))\n",
    "print(\"Lucro por unidade de tempo: \" + str(lucroPorUnidade))\n",
    "print(\"Horários de chegada dos clientes: \" + str(T0))\n",
    "print(\"Horário de chegada dos pedidos: \" + str(T1))\n",
    "print(\"\\n\\n\")\n",
    "\n",
    "\n",
    "def toleranciaDoInventario(tol,alpha):\n",
    "    x = np.zeros(100)\n",
    "    for i in range(100):\n",
    "        lucroTotal,lucroPorUnidade,T0,T1 = inventario(exponencial,T,maxEstoque,minEstoque,cost,x0,precoPorUnidade,und,custo,rate,maxRate,recebeAteFechar,custoAteFechar)\n",
    "        x[i] = lucroPorUnidade\n",
    "    n  = 100\n",
    "    m  = np.mean(x)\n",
    "    s2 = np.var(x)\n",
    "    zab2 = scipy.stats.norm.ppf(1.0 - alpha / 2.0)\n",
    "    while(2.0 * (s2 / n) * zab2 * zab2 > tol**2):\n",
    "        lucroTotal,nx,T0,T1 = inventario(exponencial,T,maxEstoque,minEstoque,cost,x0,precoPorUnidade,und,custo,rate,maxRate,recebeAteFechar,custoAteFechar)\n",
    "        nm  = m + (nx - m) / (n + 1)\n",
    "        ns2 = (1.0 - 1.0 / n) * s2 + (n + 1.0) * (nm - m)**2\n",
    "        n = n + 1\n",
    "        m  = nm\n",
    "        s2 = ns2 \n",
    "        x = np.append(x,nx)\n",
    "    return m,s2,n,x\n",
    "\n",
    "tol = 0.1\n",
    "alpha = 0.05\n",
    "\n",
    "m,s2,n,x = toleranciaDoInventario(tol,alpha)\n",
    "print(\"Lucro médio por unidade de tempo: \" + str(m))\n",
    "print(s2)\n",
    "print(\"Número de cenários necessários: \" + str(n))\n",
    "zab2 = scipy.stats.norm.ppf(1.0 - alpha / 2.0)\n",
    "print(\"A média está no intervalo [\" + str(m - math.sqrt(s2 / n) * zab2) + \",\" + str(m + math.sqrt(s2 / n) * zab2) \\\n",
    "      + \"] com a probabilidade de \" + str(1.0 - alpha) + \".\")\n",
    "print(\"\\n\\n\")\n",
    "\n",
    "\n",
    "plt.hist(x, 20, density = 1, facecolor ='green', alpha = 0.5)\n",
    "plt.title(\"Distribuição de lucro por unidade de tempo\")\n",
    "plt.show()\n",
    "\n",
    "lucro_maximo = -1.0e+30\n",
    "best_maxEstoque = 0\n",
    "best_minEstoque = 0\n",
    "\n",
    "f = FloatProgress(min=0, max=121)\n",
    "display(f)\n",
    "\n",
    "# rMaxEstoque = range(15,26)\n",
    "# rMinEstoque = (15,4,-1)\n",
    "\n",
    "# with tqdm(total=len(rMaxEstoque)) as pbar:\n",
    "for maxEstoque in tqdm(range(15,26)):\n",
    "    for minEstoque in tqdm(range(15,4,-1)):\n",
    "        m,s2,n,x = toleranciaDoInventario(tol,alpha)\n",
    "        if m > lucro_maximo:\n",
    "            lucro_maximo = m\n",
    "            best_maxEstoque = maxEstoque\n",
    "            best_minEstoque = minEstoque\n",
    "        f.value = f.value + 1\n",
    "            \n",
    "print(\"Lucro máximo por unidade de tempo: \" + str(lucro_maximo))\n",
    "print(\"Melhor política de pedidos (minEstoque, maxEstoque): (\" + str(best_minEstoque) + \",\" + str(best_maxEstoque) + \")\")"
   ]
  },
  {
   "cell_type": "code",
   "execution_count": null,
   "metadata": {},
   "outputs": [],
   "source": []
  }
 ],
 "metadata": {
  "kernelspec": {
   "display_name": "Python 3",
   "language": "python",
   "name": "python3"
  },
  "language_info": {
   "codemirror_mode": {
    "name": "ipython",
    "version": 3
   },
   "file_extension": ".py",
   "mimetype": "text/x-python",
   "name": "python",
   "nbconvert_exporter": "python",
   "pygments_lexer": "ipython3",
   "version": "3.6.8"
  }
 },
 "nbformat": 4,
 "nbformat_minor": 4
}
